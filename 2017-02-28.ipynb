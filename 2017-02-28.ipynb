{
 "cells": [
  {
   "cell_type": "markdown",
   "metadata": {},
   "source": [
    "## Modules"
   ]
  },
  {
   "cell_type": "code",
   "execution_count": 63,
   "metadata": {
    "collapsed": true
   },
   "outputs": [],
   "source": [
    "import matplotlib.patches as patches\n",
    "import matplotlib.pyplot as plt\n",
    "import random\n",
    "import math"
   ]
  },
  {
   "cell_type": "markdown",
   "metadata": {},
   "source": [
    "## Logic"
   ]
  },
  {
   "cell_type": "code",
   "execution_count": 73,
   "metadata": {
    "collapsed": true
   },
   "outputs": [],
   "source": [
    "def is_inside_circle(C, R, x, y):\n",
    "    if((x-C[0])**2+(y-C[1])**2<(R**2)):\n",
    "        return True\n",
    "    else:\n",
    "        return False\n",
    "\n",
    "def is_inside_ring(C,r,R,x,y):\n",
    "    if((r**2)<=(x-C[0])**2+(y-C[1])**2<=(R**2)):\n",
    "        return True\n",
    "    else:\n",
    "        return False\n",
    "    \n",
    "def is_inside_wedge(wedge,x,y):\n",
    "    if is_inside_ring(wedge[0],wedge[1]-wedge[4],wedge[1],x,y):\n",
    "        angle=math.degrees(math.atan2(y,x))%360\n",
    "        if wedge[2]<=angle<=wedge[3]:\n",
    "            return True\n",
    "        else:\n",
    "            return False\n",
    "    else:\n",
    "        return False\n",
    "    \n",
    "def is_inside_square(x, y):\n",
    "    if(-2 < x < 2 and -2 < y < 2):\n",
    "        return True\n",
    "    else:\n",
    "        return False"
   ]
  },
  {
   "cell_type": "markdown",
   "metadata": {},
   "source": [
    "## Obstacles, goal"
   ]
  },
  {
   "cell_type": "code",
   "execution_count": 82,
   "metadata": {
    "collapsed": false
   },
   "outputs": [],
   "source": [
    "wedges=[[(0,0),1,20,340,0.2]]\n",
    "\n",
    "circles=[[(-0.2,0.3),0.06],[(-0.3,-0,2),0.03]]\n",
    "\n",
    "goal=[(-1.5, 1.5),0.1]"
   ]
  },
  {
   "cell_type": "markdown",
   "metadata": {},
   "source": [
    "## Inputs"
   ]
  },
  {
   "cell_type": "code",
   "execution_count": 83,
   "metadata": {
    "collapsed": true
   },
   "outputs": [],
   "source": [
    "d=0.01\n",
    "angle=45\n",
    "poss_angles=(-5,5)"
   ]
  },
  {
   "cell_type": "markdown",
   "metadata": {},
   "source": [
    "## Functions"
   ]
  },
  {
   "cell_type": "code",
   "execution_count": 84,
   "metadata": {
    "collapsed": true
   },
   "outputs": [],
   "source": [
    "def one_walk(steps,initial_pos,\n",
    "             d=d,poss_angles=poss_angles):\n",
    "    angle=random.randint(0,360)\n",
    "    x=[initial_pos[0]]\n",
    "    y=[initial_pos[1]]\n",
    "    control=True\n",
    "    goal_reached=False\n",
    "    counter=0\n",
    "    while (counter<steps and control): # you can use control==True\n",
    "        angle += random.choice(poss_angles)\n",
    "        x.append(x[-1]+d*math.cos(math.radians(angle)))\n",
    "        y.append(y[-1]+d*math.sin(math.radians(angle)))\n",
    "    \n",
    "        for wedge in wedges:\n",
    "            if is_inside_wedge(wedge,x[-1],y[-1]):\n",
    "                x.pop()\n",
    "                y.pop()\n",
    "                control=False\n",
    "                break\n",
    "                \n",
    "        for circle in circles:\n",
    "            if is_inside_circle(circle[0], circle[1], x[-1], y[-1]):\n",
    "                x.pop()\n",
    "                y.pop()\n",
    "                control=False\n",
    "                break\n",
    "        if not (is_inside_square(x[-1], y[-1])):\n",
    "            x.pop()\n",
    "            y.pop()\n",
    "            control=False\n",
    "        \n",
    "        #if the goal is reached\n",
    "        if is_inside_circle(goal[0],goal[1],x[-1], y[-1]):\n",
    "            control=False\n",
    "            goal_reached=True\n",
    "        #counter\n",
    "        counter+=1\n",
    "        \n",
    "    return(x,y,goal_reached)"
   ]
  },
  {
   "cell_type": "code",
   "execution_count": 88,
   "metadata": {
    "collapsed": true
   },
   "outputs": [],
   "source": [
    "def decision(walks,steps,initial_pos):\n",
    "    goal_reached=False\n",
    "    counter=0\n",
    "    xf=[]\n",
    "    yf=[]\n",
    "    while(counter<walks and not goal_reached):\n",
    "        x,y,goal_reached=one_walk(steps=steps,initial_pos=initial_pos)\n",
    "        if goal_reached:\n",
    "            xf=x\n",
    "            yf=y\n",
    "            counter=walks\n",
    "        else:\n",
    "            if len(x)>len(xf):\n",
    "                xf=x\n",
    "                yf=y\n",
    "        counter+=1\n",
    "    return(xf[:100],yf[:100],goal_reached)"
   ]
  },
  {
   "cell_type": "code",
   "execution_count": 89,
   "metadata": {
    "collapsed": false
   },
   "outputs": [],
   "source": [
    "steps=1000\n",
    "walks=100\n",
    "goal_reached=False\n",
    "counter=0\n",
    "X=[0]\n",
    "Y=[0]\n",
    "while (counter<100 and not goal_reached):\n",
    "    x,y,goal_reached=decision(walks=walks,steps=steps,initial_pos=(X[-1],Y[-1]))\n",
    "    X.pop()\n",
    "    Y.pop()\n",
    "    X+=x\n",
    "    Y+=y\n",
    "    counter+=1"
   ]
  },
  {
   "cell_type": "code",
   "execution_count": 93,
   "metadata": {
    "collapsed": false
   },
   "outputs": [
    {
     "data": {
      "image/png": "[encoded data removed]",
      "text/plain": [
       "<matplotlib.figure.Figure at 0x24c2eb03470>"
      ]
     },
     "metadata": {},
     "output_type": "display_data"
    }
   ],
   "source": [
    "fig = plt.figure()\n",
    "ax = fig.add_subplot(111, aspect='equal')\n",
    "ax.plot(X,Y,linewidth=0.2,color='k')\n",
    "for circle in circles:\n",
    "    ax.add_patch(patches.Circle(circle[0],circle[1],color='k',fill=True))\n",
    "for wedge in wedges:\n",
    "    ax.add_patch(patches.Wedge(wedge[0],wedge[1],20,340,width=wedge[4]))\n",
    "ax.add_patch(patches.Rectangle((-2, -2),4.0,4.0,fill=False))\n",
    "ax.add_patch(patches.Circle(goal[0],goal[1],color='g',fill=True))\n",
    "plt.axis([-3, 3, -3,3])\n",
    "plt.show()"
   ]
  },
  {
   "cell_type": "code",
   "execution_count": 50,
   "metadata": {
    "collapsed": false
   },
   "outputs": [
    {
     "data": {
      "text/plain": [
       "2"
      ]
     },
     "execution_count": 50,
     "metadata": {},
     "output_type": "execute_result"
    }
   ],
   "source": [
    "counter"
   ]
  },
  {
   "cell_type": "code",
   "execution_count": 35,
   "metadata": {
    "collapsed": true
   },
   "outputs": [],
   "source": [
    "fig.savefig(\"notnicepath.png\",dpi=900)"
   ]
  },
  {
   "cell_type": "code",
   "execution_count": null,
   "metadata": {
    "collapsed": true
   },
   "outputs": [],
   "source": []
  }
 ],
 "metadata": {
  "anaconda-cloud": {},
  "kernelspec": {
   "display_name": "Python [default]",
   "language": "python",
   "name": "python3"
  },
  "language_info": {
   "codemirror_mode": {
    "name": "ipython",
    "version": 3
   },
   "file_extension": ".py",
   "mimetype": "text/x-python",
   "name": "python",
   "nbconvert_exporter": "python",
   "pygments_lexer": "ipython3",
   "version": "3.5.2"
  }
 },
 "nbformat": 4,
 "nbformat_minor": 1
}
